{
 "cells": [
  {
   "cell_type": "code",
   "execution_count": null,
   "id": "3a7e17cb",
   "metadata": {},
   "outputs": [],
   "source": [
    "import pandas as pd \n",
    "import matplotlib as mpl \n",
    "import matplotlib.pyplot as plt \n",
    "from datetime import datetime\n",
    "from matplotlib import ticker\n",
    "from matplotlib import dates as mdates"
   ]
  },
  {
   "cell_type": "code",
   "execution_count": null,
   "id": "63668bde",
   "metadata": {},
   "outputs": [],
   "source": [
    "data = pd.read_csv(\"https://raw.githubusercontent.com/okekejus/personal_spotify_tracking/refs/heads/main/daily_dumps/song_stats.csv\") # fetch data\n",
    "data['month_start'] = data['run_date'].apply(lambda x: (datetime.strptime(x, \"%Y-%m-%d\").date()).replace(day=1)) # determine start of month\n",
    "data['rank'] = data.groupby(by='month_start').rank(method='max').iloc[:, 0] # group data \n",
    "shrunken = data.groupby('month_start').max('rank') # extract max day of month based on rank"
   ]
  },
  {
   "cell_type": "code",
   "execution_count": null,
   "id": "fd119b2f",
   "metadata": {},
   "outputs": [],
   "source": [
    "X = shrunken.index.to_list()\n",
    "Y = round(shrunken['most_listened_pop_score'])\n",
    "axis_min = round(min(shrunken['most_listened_pop_score'])) - 1\n",
    "axis_max = round(max(shrunken['most_listened_pop_score'])) + 2"
   ]
  },
  {
   "cell_type": "code",
   "execution_count": null,
   "id": "863a9013",
   "metadata": {},
   "outputs": [],
   "source": [
    "fig, ax = plt.subplots()\n",
    "plt.style.use('ggplot')\n",
    "ax.set_title(\"Popularity Score for Songs Most Listened To\")\n",
    "plt.gca().xaxis.set_major_locator(mdates.MonthLocator())\n",
    "plt.gca().xaxis.set_major_formatter(mdates.DateFormatter('%Y/%m/%d'))\n",
    "ax.set_ylim(axis_min, axis_max)\n",
    "fig.set_size_inches(10, 8)\n",
    "fig.set_dpi(100)\n",
    "ax.plot(X, Y, color='green')"
   ]
  },
  {
   "cell_type": "code",
   "execution_count": null,
   "id": "105098f4",
   "metadata": {},
   "outputs": [],
   "source": [
    "fig.savefig(\"Popularity Score Plot.png\")"
   ]
  }
 ],
 "metadata": {
  "kernelspec": {
   "display_name": "data_analysis",
   "language": "python",
   "name": "python3"
  },
  "language_info": {
   "codemirror_mode": {
    "name": "ipython",
    "version": 3
   },
   "file_extension": ".py",
   "mimetype": "text/x-python",
   "name": "python",
   "nbconvert_exporter": "python",
   "pygments_lexer": "ipython3",
   "version": "3.13.2"
  }
 },
 "nbformat": 4,
 "nbformat_minor": 5
}
