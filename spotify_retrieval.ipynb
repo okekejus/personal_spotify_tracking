{
 "cells": [
  {
   "cell_type": "code",
   "execution_count": null,
   "id": "dd9318ef",
   "metadata": {},
   "outputs": [],
   "source": [
    "from spotify import *"
   ]
  },
  {
   "cell_type": "code",
   "execution_count": 1,
   "id": "3dacc4bc",
   "metadata": {},
   "outputs": [],
   "source": [
    "scope:str = \"user-library-read \" \\\n",
    "\"playlist-read-private \" \\\n",
    "\"playlist-read-collaborative \" \\\n",
    "\"user-top-read user-read-private \" \\\n",
    "\"user-read-email\""
   ]
  },
  {
   "cell_type": "code",
   "execution_count": null,
   "id": "b2545d7f",
   "metadata": {},
   "outputs": [],
   "source": [
    "auth_code = fetch_auth_code(scope)"
   ]
  },
  {
   "cell_type": "code",
   "execution_count": null,
   "id": "2ad2e7be",
   "metadata": {},
   "outputs": [],
   "source": [
    "token_details = fetch_token(auth_code)"
   ]
  },
  {
   "cell_type": "code",
   "execution_count": null,
   "id": "4e4c6c61",
   "metadata": {},
   "outputs": [],
   "source": [
    "me = SpotifyUser(get_user())"
   ]
  },
  {
   "cell_type": "code",
   "execution_count": null,
   "id": "9bf58126",
   "metadata": {},
   "outputs": [],
   "source": [
    "library_size = get_total_songs()"
   ]
  },
  {
   "cell_type": "code",
   "execution_count": null,
   "id": "84422ee9",
   "metadata": {},
   "outputs": [],
   "source": [
    "library_size"
   ]
  },
  {
   "cell_type": "code",
   "execution_count": null,
   "id": "121f4d0f",
   "metadata": {},
   "outputs": [],
   "source": [
    "link_list = generate_link_list(0, 50, library_size)"
   ]
  },
  {
   "cell_type": "code",
   "execution_count": null,
   "id": "528669e0",
   "metadata": {},
   "outputs": [],
   "source": [
    "link_list"
   ]
  },
  {
   "cell_type": "code",
   "execution_count": null,
   "id": "aad1f9e6",
   "metadata": {},
   "outputs": [],
   "source": [
    "all_songs = get_all_song_titles(link_list, 50, 4)"
   ]
  },
  {
   "cell_type": "code",
   "execution_count": null,
   "id": "88ba7067",
   "metadata": {},
   "outputs": [],
   "source": [
    "all_songs"
   ]
  },
  {
   "cell_type": "code",
   "execution_count": null,
   "id": "a723a736",
   "metadata": {},
   "outputs": [],
   "source": [
    "top_link_list = generate_top_link_list(library_size)"
   ]
  },
  {
   "cell_type": "code",
   "execution_count": null,
   "id": "f4776fad",
   "metadata": {},
   "outputs": [],
   "source": [
    "top_link_list"
   ]
  },
  {
   "cell_type": "code",
   "execution_count": null,
   "id": "d320f835",
   "metadata": {},
   "outputs": [],
   "source": [
    "all_top_songs = get_all_top_song_titles(top_link_list, 50, 5)"
   ]
  },
  {
   "cell_type": "code",
   "execution_count": null,
   "id": "c6cc58d9",
   "metadata": {},
   "outputs": [],
   "source": [
    "all_top_songs"
   ]
  }
 ],
 "metadata": {
  "kernelspec": {
   "display_name": "data_analysis",
   "language": "python",
   "name": "python3"
  },
  "language_info": {
   "codemirror_mode": {
    "name": "ipython",
    "version": 3
   },
   "file_extension": ".py",
   "mimetype": "text/x-python",
   "name": "python",
   "nbconvert_exporter": "python",
   "pygments_lexer": "ipython3",
   "version": "3.13.2"
  }
 },
 "nbformat": 4,
 "nbformat_minor": 5
}
