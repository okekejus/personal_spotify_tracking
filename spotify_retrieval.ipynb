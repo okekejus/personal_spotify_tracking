{
 "cells": [
  {
   "cell_type": "code",
   "execution_count": 1,
   "id": "dd9318ef",
   "metadata": {},
   "outputs": [],
   "source": [
    "from spotify import *"
   ]
  },
  {
   "cell_type": "code",
   "execution_count": 16,
   "id": "e59a510e",
   "metadata": {},
   "outputs": [],
   "source": [
    "import pandas as pd "
   ]
  },
  {
   "cell_type": "code",
   "execution_count": 78,
   "id": "0fcbd944",
   "metadata": {},
   "outputs": [],
   "source": [
    "import seaborn as sns\n",
    "import matplotlib.pyplot as plt"
   ]
  },
  {
   "cell_type": "code",
   "execution_count": 36,
   "id": "2798977b",
   "metadata": {},
   "outputs": [],
   "source": [
    "import datetime as dt"
   ]
  },
  {
   "cell_type": "code",
   "execution_count": 2,
   "id": "3dacc4bc",
   "metadata": {},
   "outputs": [],
   "source": [
    "scope:str = \"user-library-read \" \\\n",
    "\"playlist-read-private \" \\\n",
    "\"playlist-read-collaborative \" \\\n",
    "\"user-top-read user-read-private \" \\\n",
    "\"user-read-email\""
   ]
  },
  {
   "cell_type": "code",
   "execution_count": 3,
   "id": "b2545d7f",
   "metadata": {},
   "outputs": [],
   "source": [
    "auth_code = fetch_auth_code(scope)"
   ]
  },
  {
   "cell_type": "code",
   "execution_count": 4,
   "id": "2ad2e7be",
   "metadata": {},
   "outputs": [],
   "source": [
    "token_details = fetch_token(auth_code)"
   ]
  },
  {
   "cell_type": "code",
   "execution_count": 5,
   "id": "4e4c6c61",
   "metadata": {},
   "outputs": [],
   "source": [
    "me = SpotifyUser(get_user())"
   ]
  },
  {
   "cell_type": "code",
   "execution_count": 6,
   "id": "9bf58126",
   "metadata": {},
   "outputs": [],
   "source": [
    "library_size = get_total_songs()"
   ]
  },
  {
   "cell_type": "code",
   "execution_count": 7,
   "id": "84422ee9",
   "metadata": {},
   "outputs": [
    {
     "data": {
      "text/plain": [
       "2551"
      ]
     },
     "execution_count": 7,
     "metadata": {},
     "output_type": "execute_result"
    }
   ],
   "source": [
    "library_size"
   ]
  },
  {
   "cell_type": "code",
   "execution_count": 8,
   "id": "121f4d0f",
   "metadata": {},
   "outputs": [],
   "source": [
    "link_list = generate_link_list(0, 50, library_size)"
   ]
  },
  {
   "cell_type": "code",
   "execution_count": null,
   "id": "528669e0",
   "metadata": {},
   "outputs": [],
   "source": [
    "link_list"
   ]
  },
  {
   "cell_type": "code",
   "execution_count": 10,
   "id": "aad1f9e6",
   "metadata": {},
   "outputs": [],
   "source": [
    "all_songs = get_all_song_titles(link_list, 50, 4)"
   ]
  },
  {
   "cell_type": "code",
   "execution_count": null,
   "id": "88ba7067",
   "metadata": {},
   "outputs": [],
   "source": [
    "all_songs"
   ]
  },
  {
   "cell_type": "code",
   "execution_count": 12,
   "id": "a723a736",
   "metadata": {},
   "outputs": [],
   "source": [
    "top_link_list = generate_top_link_list(library_size)"
   ]
  },
  {
   "cell_type": "code",
   "execution_count": null,
   "id": "f4776fad",
   "metadata": {},
   "outputs": [],
   "source": [
    "top_link_list"
   ]
  },
  {
   "cell_type": "code",
   "execution_count": 14,
   "id": "d320f835",
   "metadata": {},
   "outputs": [],
   "source": [
    "all_top_songs = get_all_top_song_titles(top_link_list, 50, 5)"
   ]
  },
  {
   "cell_type": "code",
   "execution_count": null,
   "id": "c6cc58d9",
   "metadata": {},
   "outputs": [],
   "source": [
    "all_top_songs"
   ]
  },
  {
   "cell_type": "code",
   "execution_count": 18,
   "id": "152be099",
   "metadata": {},
   "outputs": [],
   "source": [
    "all_songs = pd.DataFrame(all_songs)\n",
    "top_songs = pd.DataFrame(all_top_songs)"
   ]
  },
  {
   "cell_type": "code",
   "execution_count": null,
   "id": "5513f6cc",
   "metadata": {},
   "outputs": [],
   "source": [
    "all_songs"
   ]
  },
  {
   "cell_type": "code",
   "execution_count": 30,
   "id": "8fd9c912",
   "metadata": {},
   "outputs": [
    {
     "name": "stdout",
     "output_type": "stream",
     "text": [
      "59.03\n",
      "63.0\n",
      "60.73\n",
      "63.0\n"
     ]
    }
   ],
   "source": [
    "s = all_songs.popularity\n",
    "t = top_songs.popularity\n",
    "\n",
    "print(s.mean().__round__(2))\n",
    "print(s.median().__round__(2))\n",
    "\n",
    "print(t.mean().__round__(2))\n",
    "print(t.median().__round__(2))"
   ]
  },
  {
   "cell_type": "code",
   "execution_count": 31,
   "id": "d534e376",
   "metadata": {},
   "outputs": [],
   "source": [
    "all_songs.to_csv(\"all_songs.csv\")"
   ]
  },
  {
   "cell_type": "code",
   "execution_count": 32,
   "id": "0422534f",
   "metadata": {},
   "outputs": [],
   "source": [
    "top_songs.to_csv(\"top_songs.csv\")"
   ]
  },
  {
   "cell_type": "code",
   "execution_count": 34,
   "id": "0892ca0e",
   "metadata": {},
   "outputs": [],
   "source": [
    "historical_songs = pd.read_csv('daily_dumps/song_stats.csv')"
   ]
  },
  {
   "cell_type": "code",
   "execution_count": 42,
   "id": "8b217a37",
   "metadata": {},
   "outputs": [],
   "source": [
    "historical_songs['run_date'] = pd.to_datetime(historical_songs.run_date)"
   ]
  },
  {
   "cell_type": "code",
   "execution_count": 46,
   "id": "0971ca5c",
   "metadata": {},
   "outputs": [],
   "source": [
    "df = historical_songs.groupby(historical_songs.run_date.dt.strftime('%B')).mean()"
   ]
  },
  {
   "cell_type": "code",
   "execution_count": 77,
   "id": "c56acedf",
   "metadata": {},
   "outputs": [
    {
     "data": {
      "text/plain": [
       "<Axes: title={'center': 'My Popularity Score Over Time'}, xlabel='Month', ylabel='Popularity Score'>"
      ]
     },
     "execution_count": 77,
     "metadata": {},
     "output_type": "execute_result"
    },
    {
     "data": {
      "image/png": "[encoded data removed]",
      "text/plain": [
       "<Figure size 1170x827 with 1 Axes>"
      ]
     },
     "metadata": {},
     "output_type": "display_data"
    }
   ],
   "source": [
    "sns.set_style(\"whitegrid\")\n",
    "sns.set_context(\"talk\")\n",
    "sns.set_theme(rc={'figure.figsize':(11.7,8.27)})\n",
    "d = sns.lineplot(df, x='run_date', y='most_listened_pop_score')\n",
    "d.set_ylim(0,70)\n",
    "d.set_xlabel(\"Month\")\n",
    "d.set_ylabel(\"Popularity Score\")\n",
    "d.set_title(\"My Popularity Score Over Time\")\n",
    "d\n"
   ]
  },
  {
   "cell_type": "code",
   "execution_count": 66,
   "id": "f68e0346",
   "metadata": {},
   "outputs": [
    {
     "data": {
      "text/plain": [
       "(0.0, 70.0)"
      ]
     },
     "execution_count": 66,
     "metadata": {},
     "output_type": "execute_result"
    }
   ],
   "source": [
    "d.set_ylim(0,70)"
   ]
  },
  {
   "cell_type": "code",
   "execution_count": 82,
   "id": "b7233d1c",
   "metadata": {},
   "outputs": [],
   "source": [
    "d.get_figure().savefig(\"my_plot.png\")"
   ]
  }
 ],
 "metadata": {
  "kernelspec": {
   "display_name": "data_analysis",
   "language": "python",
   "name": "python3"
  },
  "language_info": {
   "codemirror_mode": {
    "name": "ipython",
    "version": 3
   },
   "file_extension": ".py",
   "mimetype": "text/x-python",
   "name": "python",
   "nbconvert_exporter": "python",
   "pygments_lexer": "ipython3",
   "version": "3.13.2"
  }
 },
 "nbformat": 4,
 "nbformat_minor": 5
}
