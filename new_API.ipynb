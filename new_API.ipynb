{
 "cells": [
  {
   "cell_type": "code",
   "execution_count": null,
   "id": "dd9318ef",
   "metadata": {},
   "outputs": [],
   "source": [
    "import requests \n",
    "from dotenv import load_dotenv\n",
    "import os \n",
    "from urllib.parse import urlencode\n",
    "import base64 \n",
    "import webbrowser\n",
    "import datetime as dt\n",
    "from datetime import timedelta\n",
    "import time"
   ]
  },
  {
   "cell_type": "code",
   "execution_count": null,
   "id": "a64915d9",
   "metadata": {},
   "outputs": [],
   "source": [
    "load_dotenv()"
   ]
  },
  {
   "cell_type": "code",
   "execution_count": null,
   "id": "f5c65fc0",
   "metadata": {},
   "outputs": [],
   "source": [
    "def fetch_auth_code(scope): \n",
    "    \"\"\" Fetch Authorization Code for initial authentication. Requires human interaction as Spotify doesn't allow for headless auth. \"\"\"\n",
    "    try: \n",
    "        auth_headers = {\"client_id\": os.getenv(\"SPOTIPY_CLIENT_ID\"), \n",
    "                    \"response_type\": \"code\", \n",
    "                    \"redirect_uri\": os.getenv(\"SPOTIPY_REDIRECT_URI\"), \n",
    "                    \"scope\": scope}\n",
    "        webbrowser.open(\"https://accounts.spotify.com/authorize?\" + urlencode(auth_headers))\n",
    "        auth_code = input(\"Enter authorizaton code copied from browser: \")\n",
    "        return auth_code\n",
    "    except Exception as e: \n",
    "        print(f\"Error occurred during code retrieval. {e}\")\n"
   ]
  },
  {
   "cell_type": "code",
   "execution_count": null,
   "id": "9b931936",
   "metadata": {},
   "outputs": [],
   "source": [
    "def fetch_token(auth_code): \n",
    "    \"\"\" After fetching the code, use this to fetch the access token that can be exchanged for user data.\"\"\"\n",
    "    try: \n",
    "        encoded_creds = base64.b64encode(os.getenv(\"SPOTIPY_CLIENT_ID\").encode() + b\":\" + os.getenv(\"SPOTIPY_CLIENT_SECRET\").encode()).decode(\"utf-8\")\n",
    "        token_headers = {\"Authorization\": \"Basic \" + encoded_creds, \n",
    "                    \"Content-Type\": \"application/x-www-form-urlencoded\"}\n",
    "        token_data = {\"grant_type\": \"authorization_code\", \n",
    "                    \"code\": auth_code, \n",
    "                    \"redirect_uri\": os.getenv(\"SPOTIPY_REDIRECT_URI\")}\n",
    "        \n",
    "        obtained_at = dt.datetime.now()\n",
    "        expires_at = obtained_at + timedelta(seconds=3600)\n",
    "        req = requests.post(\"https://accounts.spotify.com/api/token\", data=token_data, headers=token_headers)\n",
    "\n",
    "        if req.status_code == 200:\n",
    "            access_token = req.json()[\"access_token\"]\n",
    "            refresh_token = req.json()['refresh_token']\n",
    "            os.environ[\"SP_ACCESS_TOKEN\"] = access_token\n",
    "            os.environ[\"SP_REFRESH_TOKEN\"] = refresh_token\n",
    "            os.environ[\"SP_EXPIRES_AT\"] = str(expires_at)\n",
    "            os.environ[\"SP_OBTAINED_AT\"] = str(obtained_at)\n",
    "            resp = {\"access_token\":access_token, \"obtained_at\": obtained_at, \"expires_at\": expires_at, \"refresh_token\": refresh_token}\n",
    "        else: \n",
    "            resp = f\"Unable to fetch token: {req.json()['error_description']}\" # should probably just make into an exception\n",
    "        return resp\n",
    "    except requests.exceptions.RequestException as Exception: \n",
    "        print(f\"Error occured during token retrieval: {Exception.args}\")\n"
   ]
  },
  {
   "cell_type": "code",
   "execution_count": null,
   "id": "e5a62919",
   "metadata": {},
   "outputs": [],
   "source": [
    "def refresh_token(refresh_token): \n",
    "    \"\"\" Using the refresh token to generate a new access token.\"\"\"\n",
    "    try: \n",
    "        encoded_creds = base64.b64encode(os.getenv(\"SPOTIPY_CLIENT_ID\").encode() + b\":\" + os.getenv(\"SPOTIPY_CLIENT_SECRET\").encode()).decode(\"utf-8\")\n",
    "        header = {\"Authorization\": \"Basic \" + encoded_creds, \n",
    "                \"Content-Type\": \"application/x-www-form-urlencoded\"}\n",
    "        params = {\"grant_type\": \"refresh_token\",\n",
    "                  \"refresh_token\": os.getenv(\"SP_REFRESH_TOKEN\")}\n",
    "        resp = requests.post(url=\"https://accounts.spotify.com/api/token\", data=params, headers=header)\n",
    "        return resp.json()\n",
    "    except requests.exceptions.RequestException as e: \n",
    "        print(f\"Error occured during token retrieval: {e.args}\")\n",
    "        return None\n"
   ]
  },
  {
   "cell_type": "code",
   "execution_count": null,
   "id": "c0bf60af",
   "metadata": {},
   "outputs": [],
   "source": [
    "def validate_token(): \n",
    "    \"\"\"Checking the current access token for validity, updating if invalid \"\"\"\n",
    "\n",
    "    if dt.datetime.strptime(os.getenv(\"SP_EXPIRES_AT\"), \"%Y-%m-%d %H:%M:%S.%f\") <= dt.datetime.now(): \n",
    "        token_details = refresh_token(os.getenv(\"SP_REFRESH_TOKEN\"))\n",
    "        return token_details\n",
    "    else: \n",
    "        token_details = os.getenv(\"SP_ACCESS_TOKEN\")\n",
    "        return token_details\n",
    "    "
   ]
  },
  {
   "cell_type": "code",
   "execution_count": null,
   "id": "81873b51",
   "metadata": {},
   "outputs": [],
   "source": [
    "def fetch_song_page(link, limit) -> list:\n",
    "    try: \n",
    "        tk = validate_token()\n",
    "        numer = 0\n",
    "        del tk\n",
    "        user_header = {\"Authorization\": \"Bearer \" + os.getenv(\"SP_ACCESS_TOKEN\"), \"Content-Type\": \"application/json\"}\n",
    "        user_params = {\"limit\":limit}\n",
    "        user_tracks_response = requests.get(link, params=user_params, headers=user_header)\n",
    "        t = user_tracks_response.json()[\"items\"]\n",
    "        n = [t[idx]['track'] for idx, val in enumerate(t)]\n",
    "    except Exception as e: \n",
    "        print(f\"Error encountered during processing: {e.args}\")\n",
    "        n = []\n",
    "    return n"
   ]
  },
  {
   "cell_type": "code",
   "execution_count": null,
   "id": "446d6f3a",
   "metadata": {},
   "outputs": [],
   "source": [
    "def get_total_songs():\n",
    "    \"\"\" Determine the total number of tracks in a user's library. \"\"\"\n",
    "    token_details = validate_token()\n",
    "    try: \n",
    "        user_header = {\"Authorization\": \"Bearer \" + os.getenv(\"SP_ACCESS_TOKEN\"), \"Content-Type\": \"application/json\"}\n",
    "        user_params = {\"limit\":1} # shrink the limit because we do not need an entire response\n",
    "        user_tracks_response = requests.get(\"https://api.spotify.com/v1/me/tracks\", params=user_params, headers=user_header)\n",
    "        t = user_tracks_response.json()[\"total\"]\n",
    "        return t\n",
    "    except requests.exceptions.RequestException as e: \n",
    "        print(f\"Error encountered during request: {e.args}\")\n"
   ]
  },
  {
   "cell_type": "code",
   "execution_count": null,
   "id": "25a1a233",
   "metadata": {},
   "outputs": [],
   "source": [
    "def generate_link_list(offset, limit, library_size): \n",
    "    \"\"\"Make a list of urls to senq a request to the server for. Captures user's entire library\"\"\"\n",
    "    # Logic to figure out total number of links needed in request \n",
    "    \n",
    "    library_size = {\"total_songs\": library_size,\n",
    "                    \"total_pages_int\": library_size // 50, \n",
    "                    \"total_songs_rem\":library_size % 50, \n",
    "                    \"total_songs_int\": library_size-(library_size % 50)} # number of pages to be fetched based on limit, remainder, to be fetched after first value is hit (?) \n",
    "    offset = 50 \n",
    "    limit = 50\n",
    "    track_links = []\n",
    "\n",
    "\n",
    "    for pagenum in range(1, library_size[\"total_pages_int\"]+1):\n",
    "\n",
    "        if library_size[\"total_songs_rem\"] > 0: \n",
    "            next_track_set = f'https://api.spotify.com/v1/me/tracks?offset={offset}&limit={limit}' \n",
    "            track_links.append(next_track_set)\n",
    "            offset = offset + 50\n",
    "            if offset == library_size[\"total_songs_int\"]: \n",
    "                track_links.append(f\"https://api.spotify.com/v1/me/tracks?offset={offset+library_size[\"total_songs_rem\"]}&limit={limit}\")\n",
    "        else: \n",
    "            next_track_set = f'https://api.spotify.com/v1/me/tracks?offset={offset}&limit={limit}' \n",
    "            track_links.append(next_track_set)\n",
    "            offset = offset + 50\n",
    "    return track_links"
   ]
  },
  {
   "cell_type": "code",
   "execution_count": null,
   "id": "3dacc4bc",
   "metadata": {},
   "outputs": [],
   "source": [
    "scope = \"user-library-read playlist-read-private playlist-read-collaborative user-top-read\""
   ]
  },
  {
   "cell_type": "code",
   "execution_count": null,
   "id": "b2545d7f",
   "metadata": {},
   "outputs": [],
   "source": [
    "auth_code = fetch_auth_code(scope)"
   ]
  },
  {
   "cell_type": "code",
   "execution_count": null,
   "id": "2ad2e7be",
   "metadata": {},
   "outputs": [],
   "source": [
    "token_details = fetch_token(auth_code)"
   ]
  },
  {
   "cell_type": "code",
   "execution_count": null,
   "id": "9bf58126",
   "metadata": {},
   "outputs": [],
   "source": [
    "library_size = get_total_songs()"
   ]
  },
  {
   "cell_type": "code",
   "execution_count": null,
   "id": "121f4d0f",
   "metadata": {},
   "outputs": [],
   "source": [
    "link_list = generate_link_list(0, 50, library_size)"
   ]
  },
  {
   "cell_type": "code",
   "execution_count": null,
   "id": "8f6c48a3",
   "metadata": {},
   "outputs": [],
   "source": [
    "new_li = []\n",
    "for link in link_list: \n",
    "    output = fetch_song_page(link_list[0], 50)\n",
    "    new_li = new_li + output\n",
    "    print(f\"{link} completed\")\n"
   ]
  }
 ],
 "metadata": {
  "kernelspec": {
   "display_name": "data_analysis",
   "language": "python",
   "name": "python3"
  },
  "language_info": {
   "codemirror_mode": {
    "name": "ipython",
    "version": 3
   },
   "file_extension": ".py",
   "mimetype": "text/x-python",
   "name": "python",
   "nbconvert_exporter": "python",
   "pygments_lexer": "ipython3",
   "version": "3.13.2"
  }
 },
 "nbformat": 4,
 "nbformat_minor": 5
}
