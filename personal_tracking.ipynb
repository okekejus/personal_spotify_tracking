{
 "cells": [
  {
   "cell_type": "code",
   "execution_count": 2,
   "id": "be2f5c00",
   "metadata": {},
   "outputs": [],
   "source": [
    "#import sys \n",
    "#!{sys.executable} -m pip install spotipy\n",
    "\n",
    "import pandas as pd\n",
    "from dotenv import load_dotenv, dotenv_values\n",
    "import json \n",
    "import os \n",
    "import spotipy\n",
    "from spotipy.oauth2 import SpotifyOAuth\n",
    "import concurrent.futures\n",
    "import time \n",
    "from spotipy.exceptions import SpotifyException\n",
    "import numpy as np\n",
    "import datetime as dt \n",
    "import requests \n",
    "from github import Github\n",
    "from github import Auth\n",
    "from github import GithubIntegration\n"
   ]
  },
  {
   "cell_type": "code",
   "execution_count": 3,
   "id": "ec511001",
   "metadata": {},
   "outputs": [],
   "source": [
    "load_dotenv()\n",
    "user_url = f\"https://api.github.com/user\""
   ]
  },
  {
   "cell_type": "code",
   "execution_count": null,
   "id": "2e2bcc4f",
   "metadata": {},
   "outputs": [],
   "source": [
    "#token_maybe = requests.get(url=user_url, headers={\"Authorization\": f\"Bearer {os.getenv('GITHUB_PAT')}\"})\n",
    "#token_maybe.json()\n",
    "# tested out authentication using requests module, prefer Github's"
   ]
  },
  {
   "cell_type": "code",
   "execution_count": 4,
   "id": "bae1047a",
   "metadata": {},
   "outputs": [],
   "source": [
    "# Github authentication - need to dump files after they have been created.\n",
    "auth = Auth.AppAuthToken(os.getenv(\"GITHUB_PAT\"))\n",
    "g = Github(auth=auth)\n",
    "target_repo = [repo.id for repo in g.get_user().get_repos() if repo.name == \"personal_spotify_tracking\"]\n",
    "repo = g.get_repo(target_repo[0])"
   ]
  },
  {
   "cell_type": "code",
   "execution_count": 10,
   "id": "b2b00514",
   "metadata": {},
   "outputs": [],
   "source": [
    "# Setting things up for spotify interaction\n",
    "scope = \"user-library-read playlist-read-private playlist-read-collaborative user-top-read\"\n",
    "sp = spotipy.Spotify(auth_manager = SpotifyOAuth(scope=scope))\n",
    "rundate = str(dt.date.today()) # runs daily at 11:59 PM"
   ]
  },
  {
   "cell_type": "code",
   "execution_count": 5,
   "id": "118cc7b5",
   "metadata": {},
   "outputs": [],
   "source": [
    "def get_user_tracks(user): \n",
    "    try:\n",
    "        results = user.current_user_saved_tracks(limit=50)\n",
    "        tracks = results['items']\n",
    "        while results['next']:\n",
    "            results = user.next(results)\n",
    "            tracks.extend(results['items'])\n",
    "            time.sleep(1)\n",
    "        my_songs_df = pd.DataFrame(tracks)\n",
    "\n",
    "        song_titles = [value.get('name') for value in my_songs_df['track'].values]\n",
    "        song_release = [track['album']['release_date'] for track in my_songs_df['track']]\n",
    "        song_popularity = [value.get('popularity') for value in my_songs_df['track'].values]\n",
    "        song_ids = [value.get('id') for value in my_songs_df['track'].values]\n",
    "        song_duration = [round(value.get('duration_ms')/60000, 2) for value in my_songs_df['track'].values]\n",
    "        extracts = pd.DataFrame({'song_name': song_titles, 'song_id':song_ids, 'song_popularity': song_popularity, 'song_release': song_release, 'song_duration': song_duration})\n",
    "\n",
    "        return extracts\n",
    "    except (spotipy.exceptions.SpotifyBaseException, KeyboardInterrupt) as e: \n",
    "        print(f\"Process was interrupted due to the following error: {e}\")\n",
    "\n",
    "def get_user_top_tracks(user):\n",
    "   try:\n",
    "    results = user.current_user_top_tracks(limit=50, time_range=\"long_term\")\n",
    "    tracks = results['items']\n",
    "    while results['next']:\n",
    "        results = sp.next(results)\n",
    "        tracks.extend(results['items'])\n",
    "        time.sleep(1)\n",
    "    top_tracks = pd.DataFrame(tracks)[['id', 'name', 'popularity']]\n",
    "    return top_tracks\n",
    "   except (spotipy.exceptions.SpotifyBaseException, KeyboardInterrupt) as e: \n",
    "        print(f\"Process was interrupted due to the following error: {e}\")\n"
   ]
  },
  {
   "cell_type": "code",
   "execution_count": null,
   "id": "64ebb1c7",
   "metadata": {},
   "outputs": [],
   "source": [
    "my_songs = get_user_tracks(sp)\n",
    "my_songs = my_songs.astype({'song_popularity': int})"
   ]
  },
  {
   "cell_type": "code",
   "execution_count": null,
   "id": "9cb1ed1f",
   "metadata": {},
   "outputs": [],
   "source": [
    "user_popularity_score = np.average(my_songs['song_popularity'])\n",
    "# getting the tracks a user most frequently listens to \n",
    "top_tracks = get_user_top_tracks(sp)\n",
    "most_listened_pop_score = round(np.average(top_tracks['popularity'][0:100]),2)\n",
    "med_song_duration = round(np.average(my_songs['song_duration'][0:100]),2)"
   ]
  },
  {
   "cell_type": "code",
   "execution_count": 12,
   "id": "6dc9ce42",
   "metadata": {},
   "outputs": [],
   "source": [
    "d = {\"run_date\": [rundate], \n",
    "     \"total_songs\": [len(my_songs['song_name'])], \n",
    "     \"popularity_score\": [user_popularity_score], \n",
    "     \"most_listened_pop_score\": [most_listened_pop_score], \n",
    "     \"avg_song_duration\": [med_song_duration]}\n",
    "\n",
    "addon = pd.DataFrame(d)"
   ]
  },
  {
   "cell_type": "code",
   "execution_count": null,
   "id": "d657e88e",
   "metadata": {},
   "outputs": [],
   "source": [
    "repo.create_file(path=f\"daily_dumps/song_stats_{rundate}.csv\", \n",
    "                 message=f\"Adding song info for {rundate}\", \n",
    "                 content=addon.to_csv(index=False))"
   ]
  },
  {
   "cell_type": "code",
   "execution_count": 14,
   "id": "894f7738",
   "metadata": {},
   "outputs": [],
   "source": [
    "old = pd.read_csv(\"https://raw.githubusercontent.com/okekejus/personal_spotify_tracking/refs/heads/main/daily_dumps/song_stats.csv\")\n",
    "new = pd.concat([old, addon])"
   ]
  },
  {
   "cell_type": "code",
   "execution_count": null,
   "id": "67de28a0",
   "metadata": {},
   "outputs": [],
   "source": [
    "contents = repo.get_contents(\"song_list/all_songs.csv\")\n",
    "repo.update_file(contents.path, f\"Song list as of {rundate}\", my_songs.to_csv(index=False), contents.sha)"
   ]
  },
  {
   "cell_type": "code",
   "execution_count": null,
   "id": "8cea3e6c",
   "metadata": {},
   "outputs": [],
   "source": [
    "contents = repo.get_contents(\"daily_dumps/song_stats.csv\")\n",
    "repo.update_file(contents.path, f\"Song stats updated {rundate}\", new.to_csv(index=False), contents.sha)"
   ]
  },
  {
   "cell_type": "code",
   "execution_count": 18,
   "id": "35c93da5",
   "metadata": {},
   "outputs": [],
   "source": [
    "g.close()"
   ]
  }
 ],
 "metadata": {
  "kernelspec": {
   "display_name": "popify",
   "language": "python",
   "name": "python3"
  },
  "language_info": {
   "codemirror_mode": {
    "name": "ipython",
    "version": 3
   },
   "file_extension": ".py",
   "mimetype": "text/x-python",
   "name": "python",
   "nbconvert_exporter": "python",
   "pygments_lexer": "ipython3",
   "version": "3.9.21"
  }
 },
 "nbformat": 4,
 "nbformat_minor": 5
}
