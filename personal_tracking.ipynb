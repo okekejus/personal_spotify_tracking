{
 "cells": [
  {
   "cell_type": "code",
   "execution_count": 1,
   "id": "be2f5c00",
   "metadata": {},
   "outputs": [],
   "source": [
    "#import sys \n",
    "#!{sys.executable} -m pip install spotipy\n",
    "\n",
    "import pandas as pd\n",
    "from dotenv import load_dotenv, dotenv_values\n",
    "import json \n",
    "import os \n",
    "import spotipy\n",
    "from spotipy.oauth2 import SpotifyOAuth\n",
    "import concurrent.futures\n",
    "import time \n",
    "from spotipy.exceptions import SpotifyException\n",
    "import numpy as np\n",
    "import datetime as dt "
   ]
  },
  {
   "cell_type": "code",
   "execution_count": 2,
   "id": "ec511001",
   "metadata": {},
   "outputs": [
    {
     "data": {
      "text/plain": [
       "True"
      ]
     },
     "execution_count": 2,
     "metadata": {},
     "output_type": "execute_result"
    }
   ],
   "source": [
    "load_dotenv()"
   ]
  },
  {
   "cell_type": "code",
   "execution_count": 3,
   "id": "b2b00514",
   "metadata": {},
   "outputs": [],
   "source": [
    "scope = \"user-library-read playlist-read-private playlist-read-collaborative\"\n",
    "sp = spotipy.Spotify(auth_manager = SpotifyOAuth(scope=scope))\n",
    "rundate = str(dt.date.today())"
   ]
  },
  {
   "cell_type": "code",
   "execution_count": null,
   "id": "118cc7b5",
   "metadata": {},
   "outputs": [],
   "source": [
    "def get_user_tracks(user): # need to modify to include the year the track was relesed (for filtering for 2013)\n",
    "    results = user.current_user_saved_tracks(limit=50)\n",
    "    tracks = results['items']\n",
    "    while results['next']:\n",
    "        results = sp.next(results)\n",
    "        tracks.extend(results['items'])\n",
    "        time.sleep(1)\n",
    "    my_songs_df = pd.DataFrame(tracks)\n",
    "\n",
    "    song_titles = [value.get('name') for value in my_songs_df['track'].values]\n",
    "    song_release = [track['album']['release_date'] for track in my_songs_df['track']]\n",
    "    song_popularity = [value.get('popularity') for value in my_songs_df['track'].values]\n",
    "    song_ids = [value.get('id') for value in my_songs_df['track'].values]\n",
    "    song_duration = [round(value.get('duration_ms')/60000, 2) for value in my_songs_df['track'].values]\n",
    "    extracts = pd.DataFrame({'song_name': song_titles, 'song_id':song_ids, 'song_popularity': song_popularity, 'song_release': song_release, 'song_duration': song_duration}).reindex()\n",
    "\n",
    "\n",
    "    return extracts\n",
    "\n",
    "def get_user_top_tracks(user):\n",
    "   results = sp.current_user_top_tracks(limit=50, time_range=\"long_term\")\n",
    "   tracks = results['items']\n",
    "   while results['next']:\n",
    "     results = sp.next(results)\n",
    "     tracks.extend(results['items'])\n",
    "     time.sleep(1)\n",
    "   top_tracks = pd.DataFrame(tracks)[['id', 'name', 'popularity']]\n",
    "   return top_tracks\n",
    "    \n",
    "    \n",
    "valid_playlists = []\n",
    "\n",
    "def check_playlist(playlist_id): \n",
    "    \n",
    "    try: \n",
    "        results = sp.playlist_tracks(playlist_id) # fetch tracks \n",
    "        valid_playlists.append(playlist_id)\n",
    "        print(f\"Valid playlist: {playlist_id}\")\n",
    "\n",
    "    except spotipy.exceptions.SpotifyException as e: \n",
    "        print(f\"Invalid Playlist: {playlist_id}\")\n",
    "    time.sleep(1)\n",
    "\n",
    "\n",
    "def get_playlist_tracks(playlist):\n",
    "    results = sp.playlist_tracks(playlist, limit=50)\n",
    "    tracks = results['items']\n",
    "    while results['next']:\n",
    "        results = sp.next(results)\n",
    "        tracks.extend(results['items'])\n",
    "    \n",
    "    playlist_songs_df = pd.DataFrame(tracks)\n",
    "\n",
    "    song_titles = [value.get('name') for value in playlist_songs_df['track'].values]\n",
    "    song_ids = [value.get('id') for value in playlist_songs_df['track'].values]\n",
    "    extracts = pd.DataFrame({'song_names': song_titles, 'song_ids':song_ids}).reindex()\n",
    "    \n",
    "    return extracts\n",
    "\n",
    "\n",
    "# Might need to speed up the functions"
   ]
  },
  {
   "cell_type": "code",
   "execution_count": 5,
   "id": "64ebb1c7",
   "metadata": {},
   "outputs": [],
   "source": [
    "my_songs = get_user_tracks(sp)\n",
    "my_songs = my_songs.astype({'song_popularity': int})"
   ]
  },
  {
   "cell_type": "code",
   "execution_count": 7,
   "id": "9cb1ed1f",
   "metadata": {},
   "outputs": [],
   "source": [
    "user_popularity_score = np.average(my_songs['song_popularity'])\n",
    "# getting the tracks a user most frequently listens to \n",
    "top_tracks = get_user_top_tracks(sp)\n",
    "most_listened_pop_score = round(np.average(top_tracks['popularity'][0:100]),2)\n",
    "med_song_duration = round(np.average(my_songs['song_duration'][0:100]),2)"
   ]
  },
  {
   "cell_type": "code",
   "execution_count": 8,
   "id": "6dc9ce42",
   "metadata": {},
   "outputs": [],
   "source": [
    "d = {\"run_date\": [rundate], \n",
    "     \"total_songs\": [len(my_songs['song_name'])], \n",
    "     \"popularity_score\": [user_popularity_score], \n",
    "     \"most_listened_pop_score\": [most_listened_pop_score], \n",
    "     \"med_song_duration\": [med_song_duration]}\n",
    "\n",
    "addon = pd.DataFrame(d)"
   ]
  },
  {
   "cell_type": "code",
   "execution_count": 9,
   "id": "b9002a49",
   "metadata": {},
   "outputs": [],
   "source": [
    "addon.to_csv(f\"daily_dumps/song_stats_{rundate}.csv\", index=False)"
   ]
  },
  {
   "cell_type": "code",
   "execution_count": 10,
   "id": "894f7738",
   "metadata": {},
   "outputs": [],
   "source": [
    "old = pd.read_csv(\"daily_dumps/song_stats.csv\")\n",
    "\n",
    "new = pd.concat([old, addon])\n",
    "\n",
    "new.to_csv(\"daily_dumps/song_stats.csv\", index=False)"
   ]
  }
 ],
 "metadata": {
  "kernelspec": {
   "display_name": "popify",
   "language": "python",
   "name": "python3"
  },
  "language_info": {
   "codemirror_mode": {
    "name": "ipython",
    "version": 3
   },
   "file_extension": ".py",
   "mimetype": "text/x-python",
   "name": "python",
   "nbconvert_exporter": "python",
   "pygments_lexer": "ipython3",
   "version": "3.9.21"
  }
 },
 "nbformat": 4,
 "nbformat_minor": 5
}
